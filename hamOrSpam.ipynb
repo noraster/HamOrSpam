{
 "cells": [
  {
   "cell_type": "markdown",
   "metadata": {
    "collapsed": true,
    "pycharm": {
     "name": "#%% md\n"
    }
   },
   "source": [
    "Ham or Spam\n",
    "===========\n",
    "\n",
    "A projekt  célja egy olyan modell megalkotása, ami a szövegről (például egy emailről) meg tudja állapítani, hogy az spam -e.\n",
    "\n",
    "Ehhez a Naive Bayes Machine Learning algoritmus Multinomiális típusát fogom használni, ami egyszerűen és hatékonyan lehet szövegeket feldolgozni."
   ]
  },
  {
   "cell_type": "markdown",
   "source": [
    "Importálom a külső függőségeket."
   ],
   "metadata": {
    "collapsed": false,
    "pycharm": {
     "name": "#%% md\n"
    }
   }
  },
  {
   "cell_type": "code",
   "execution_count": 103,
   "outputs": [],
   "source": [
    "import numpy as np\n",
    "import pandas as pd\n",
    "import matplotlib.pyplot as plt\n",
    "from collections import Counter\n",
    "from sklearn import feature_extraction, model_selection, naive_bayes, metrics, svm\n",
    "from sklearn import preprocessing\n",
    "import warnings\n",
    "warnings.filterwarnings(\"ignore\")\n",
    "%matplotlib inline"
   ],
   "metadata": {
    "collapsed": false,
    "pycharm": {
     "name": "#%%\n"
    }
   }
  },
  {
   "cell_type": "markdown",
   "metadata": {
    "pycharm": {
     "name": "#%% md\n"
    }
   },
   "source": [
    "Az adatok beolvasása\n",
    "----------------------\n",
    "\n",
    "Beolvasom az adathalmazt."
   ]
  },
  {
   "cell_type": "code",
   "execution_count": 104,
   "outputs": [
    {
     "data": {
      "text/plain": "        v1                                                 v2 Unnamed: 2  \\\n0      ham  Go until jurong point, crazy.. Available only ...        NaN   \n1      ham                      Ok lar... Joking wif u oni...        NaN   \n2     spam  Free entry in 2 a wkly comp to win FA Cup fina...        NaN   \n3      ham  U dun say so early hor... U c already then say...        NaN   \n4      ham  Nah I don't think he goes to usf, he lives aro...        NaN   \n...    ...                                                ...        ...   \n5567  spam  This is the 2nd time we have tried 2 contact u...        NaN   \n5568   ham              Will Ì_ b going to esplanade fr home?        NaN   \n5569   ham  Pity, * was in mood for that. So...any other s...        NaN   \n5570   ham  The guy did some bitching but I acted like i'd...        NaN   \n5571   ham                         Rofl. Its true to its name        NaN   \n\n     Unnamed: 3 Unnamed: 4  \n0           NaN        NaN  \n1           NaN        NaN  \n2           NaN        NaN  \n3           NaN        NaN  \n4           NaN        NaN  \n...         ...        ...  \n5567        NaN        NaN  \n5568        NaN        NaN  \n5569        NaN        NaN  \n5570        NaN        NaN  \n5571        NaN        NaN  \n\n[5572 rows x 5 columns]",
      "text/html": "<div>\n<style scoped>\n    .dataframe tbody tr th:only-of-type {\n        vertical-align: middle;\n    }\n\n    .dataframe tbody tr th {\n        vertical-align: top;\n    }\n\n    .dataframe thead th {\n        text-align: right;\n    }\n</style>\n<table border=\"1\" class=\"dataframe\">\n  <thead>\n    <tr style=\"text-align: right;\">\n      <th></th>\n      <th>v1</th>\n      <th>v2</th>\n      <th>Unnamed: 2</th>\n      <th>Unnamed: 3</th>\n      <th>Unnamed: 4</th>\n    </tr>\n  </thead>\n  <tbody>\n    <tr>\n      <th>0</th>\n      <td>ham</td>\n      <td>Go until jurong point, crazy.. Available only ...</td>\n      <td>NaN</td>\n      <td>NaN</td>\n      <td>NaN</td>\n    </tr>\n    <tr>\n      <th>1</th>\n      <td>ham</td>\n      <td>Ok lar... Joking wif u oni...</td>\n      <td>NaN</td>\n      <td>NaN</td>\n      <td>NaN</td>\n    </tr>\n    <tr>\n      <th>2</th>\n      <td>spam</td>\n      <td>Free entry in 2 a wkly comp to win FA Cup fina...</td>\n      <td>NaN</td>\n      <td>NaN</td>\n      <td>NaN</td>\n    </tr>\n    <tr>\n      <th>3</th>\n      <td>ham</td>\n      <td>U dun say so early hor... U c already then say...</td>\n      <td>NaN</td>\n      <td>NaN</td>\n      <td>NaN</td>\n    </tr>\n    <tr>\n      <th>4</th>\n      <td>ham</td>\n      <td>Nah I don't think he goes to usf, he lives aro...</td>\n      <td>NaN</td>\n      <td>NaN</td>\n      <td>NaN</td>\n    </tr>\n    <tr>\n      <th>...</th>\n      <td>...</td>\n      <td>...</td>\n      <td>...</td>\n      <td>...</td>\n      <td>...</td>\n    </tr>\n    <tr>\n      <th>5567</th>\n      <td>spam</td>\n      <td>This is the 2nd time we have tried 2 contact u...</td>\n      <td>NaN</td>\n      <td>NaN</td>\n      <td>NaN</td>\n    </tr>\n    <tr>\n      <th>5568</th>\n      <td>ham</td>\n      <td>Will Ì_ b going to esplanade fr home?</td>\n      <td>NaN</td>\n      <td>NaN</td>\n      <td>NaN</td>\n    </tr>\n    <tr>\n      <th>5569</th>\n      <td>ham</td>\n      <td>Pity, * was in mood for that. So...any other s...</td>\n      <td>NaN</td>\n      <td>NaN</td>\n      <td>NaN</td>\n    </tr>\n    <tr>\n      <th>5570</th>\n      <td>ham</td>\n      <td>The guy did some bitching but I acted like i'd...</td>\n      <td>NaN</td>\n      <td>NaN</td>\n      <td>NaN</td>\n    </tr>\n    <tr>\n      <th>5571</th>\n      <td>ham</td>\n      <td>Rofl. Its true to its name</td>\n      <td>NaN</td>\n      <td>NaN</td>\n      <td>NaN</td>\n    </tr>\n  </tbody>\n</table>\n<p>5572 rows × 5 columns</p>\n</div>"
     },
     "execution_count": 104,
     "metadata": {},
     "output_type": "execute_result"
    }
   ],
   "source": [
    "data = pd.read_csv(r'.\\spam.csv', encoding='latin-1')\n",
    "data"
   ],
   "metadata": {
    "collapsed": false,
    "pycharm": {
     "name": "#%%\n"
    }
   }
  },
  {
   "cell_type": "markdown",
   "metadata": {
    "pycharm": {
     "name": "#%% md\n"
    }
   },
   "source": [
    "Kitörlöm a felesleges oszlopokat és a v1 és v2 oszlopokat átnevezem."
   ]
  },
  {
   "cell_type": "code",
   "execution_count": 105,
   "metadata": {
    "pycharm": {
     "name": "#%%\n"
    }
   },
   "outputs": [
    {
     "data": {
      "text/plain": "  labels                                               text\n0    ham  Go until jurong point, crazy.. Available only ...\n1    ham                      Ok lar... Joking wif u oni...",
      "text/html": "<div>\n<style scoped>\n    .dataframe tbody tr th:only-of-type {\n        vertical-align: middle;\n    }\n\n    .dataframe tbody tr th {\n        vertical-align: top;\n    }\n\n    .dataframe thead th {\n        text-align: right;\n    }\n</style>\n<table border=\"1\" class=\"dataframe\">\n  <thead>\n    <tr style=\"text-align: right;\">\n      <th></th>\n      <th>labels</th>\n      <th>text</th>\n    </tr>\n  </thead>\n  <tbody>\n    <tr>\n      <th>0</th>\n      <td>ham</td>\n      <td>Go until jurong point, crazy.. Available only ...</td>\n    </tr>\n    <tr>\n      <th>1</th>\n      <td>ham</td>\n      <td>Ok lar... Joking wif u oni...</td>\n    </tr>\n  </tbody>\n</table>\n</div>"
     },
     "execution_count": 105,
     "metadata": {},
     "output_type": "execute_result"
    }
   ],
   "source": [
    "data = data.drop(columns =['Unnamed: 2','Unnamed: 3','Unnamed: 4'])\n",
    "data = data.rename(columns={\"v1\": \"labels\", \"v2\": \"text\"})\n",
    "data.head(n=2)"
   ]
  },
  {
   "cell_type": "markdown",
   "metadata": {
    "pycharm": {
     "name": "#%% md\n"
    }
   },
   "source": [
    "Oszlopdiagramon megjelenítem a hamek és spamek eloszlását."
   ]
  },
  {
   "cell_type": "code",
   "execution_count": 106,
   "metadata": {
    "pycharm": {
     "name": "#%%\n"
    }
   },
   "outputs": [
    {
     "data": {
      "text/plain": "<Figure size 432x288 with 1 Axes>",
      "image/png": "[encoded data removed]"
     },
     "metadata": {
      "needs_background": "light"
     },
     "output_type": "display_data"
    }
   ],
   "source": [
    "labels_counts=pd.value_counts(data[\"labels\"], sort= True)\n",
    "labels_counts.plot.bar(color= [\"#0A3\", \"#b30000\"])\n",
    "plt.title('Bar chart')\n",
    "plt.show()"
   ]
  },
  {
   "cell_type": "markdown",
   "metadata": {},
   "source": [
    "Most kördiagromon ábrázolom a hamek és spamek eloszlását százalékosan."
   ]
  },
  {
   "cell_type": "code",
   "execution_count": 107,
   "metadata": {
    "pycharm": {
     "name": "#%%\n"
    }
   },
   "outputs": [
    {
     "data": {
      "text/plain": "<Figure size 432x288 with 1 Axes>",
      "image/png": "[encoded data removed]"
     },
     "metadata": {},
     "output_type": "display_data"
    }
   ],
   "source": [
    "labels_counts.plot.pie(autopct='%1.0f%%', colors = [\"#0A3\", \"#b30000\"])\n",
    "plt.title('Pie chart')\n",
    "plt.ylabel('')\n",
    "plt.show()"
   ]
  },
  {
   "cell_type": "markdown",
   "source": [
    "Az adatok megtisztítása\n",
    "---------------------\n",
    "Megvizsgálom a leggyakrabban használt szavakat.\n",
    "\n",
    "Első lépésben kiválogatom a leggyakrabban használt szavakat DataFramekbe, külön a hamekre és a spamekre."
   ],
   "metadata": {
    "collapsed": false
   }
  },
  {
   "cell_type": "code",
   "execution_count": 108,
   "outputs": [],
   "source": [
    "# true, ahol a label==ham, false, ahol spam\n",
    "hams_bool = data['labels']=='ham'\n",
    "# csak a ham-eket tartalmazó sorok\n",
    "only_hams = data[hams_bool]\n",
    "#a hamekhez tartozó szövegek\n",
    "ham_texts = only_hams[\"text\"]\n",
    "\n",
    "#az összes szó egy stringben\n",
    "all_ham_text = \" \".join(ham_texts)\n",
    "#az összes szó egy listában, whitespacek mentén elvágva\n",
    "all_words_list = all_ham_text.split()\n",
    "#top 20 szó az előfordulásukkal, tuple-ben ('szo', darabszam)\n",
    "top_words_in_hams = Counter(all_words_list).most_common(20)\n",
    "top_words_in_hams_dataframe = pd.DataFrame.from_dict(top_words_in_hams)\n",
    "top_words_in_hams_dataframe = top_words_in_hams_dataframe.rename(columns={0: \"words in ham\", 1 : \"count\"})\n",
    "\n",
    "# Ugyanezt a megcsinálom a spamre, is de már nem mentem ki külön változókba.\n",
    "top_words_in_spam = Counter(\" \".join(data[data['labels']=='spam'][\"text\"]).split()).most_common(20)\n",
    "top_words_in_spam_dataframe = pd.DataFrame.from_dict(top_words_in_spam)\n",
    "top_words_in_spam_dataframe = top_words_in_spam_dataframe.rename(columns={0: \"words in spam\", 1 : \"count_\"})\n"
   ],
   "metadata": {
    "collapsed": false,
    "pycharm": {
     "name": "#%%\n"
    }
   }
  },
  {
   "cell_type": "markdown",
   "source": [
    "A következő lépésben megjelenítem a 20 leggyakoribb szót oszlopdiagramon az üzenetekből osztályonként."
   ],
   "metadata": {
    "collapsed": false,
    "pycharm": {
     "name": "#%% md\n"
    }
   }
  },
  {
   "cell_type": "code",
   "execution_count": 109,
   "outputs": [
    {
     "data": {
      "text/plain": "<Figure size 432x288 with 1 Axes>",
      "image/png": "[encoded data removed]"
     },
     "metadata": {
      "needs_background": "light"
     },
     "output_type": "display_data"
    },
    {
     "data": {
      "text/plain": "<Figure size 432x288 with 1 Axes>",
      "image/png": "[encoded data removed]"
     },
     "metadata": {
      "needs_background": "light"
     },
     "output_type": "display_data"
    }
   ],
   "source": [
    "top_words_in_hams_dataframe.plot.bar(legend = False, color = \"#0A3\")\n",
    "# len(top_words_in_hams_dataframe[\"words in ham\"]) visszaadja a \"words in ham\" lista hosszát, majd az np.arange egy egyenletesen elosztott listát ad vissz a 1-20 intervallumon belül\n",
    "y_pos = np.arange(len(top_words_in_hams_dataframe[\"words in ham\"]))\n",
    "# a matplotlib.pyplot xticks függvénye pedig az x tengelyen elhelyezi a 20 leggyakoribb szót\n",
    "plt.xticks(y_pos, top_words_in_hams_dataframe[\"words in ham\"])\n",
    "plt.title('20 leggyakoribb szó a ham üzenetekben')\n",
    "plt.xlabel('words')\n",
    "plt.ylabel('number')\n",
    "plt.show()\n",
    "\n",
    "top_words_in_spam_dataframe.plot.bar(legend = False, color = '#b30000')\n",
    "y_pos = np.arange(len(top_words_in_spam_dataframe[\"words in spam\"]))\n",
    "plt.xticks(y_pos, top_words_in_spam_dataframe[\"words in spam\"])\n",
    "plt.title('20 leggyakoribb szó a spam üzenetekben')\n",
    "plt.xlabel('words')\n",
    "plt.ylabel('number')\n",
    "plt.show()"
   ],
   "metadata": {
    "collapsed": false,
    "pycharm": {
     "name": "#%%\n"
    }
   }
  },
  {
   "cell_type": "markdown",
   "source": [
    "Ez alapján láthatjuk, hogy a gyakran előforduló szavak többsége mindkét osztályban olyan szó, mint „to”, „a”, „the” stb.\n",
    "Ezek úgynevezett stop wordok, amelyek modell teljesítményét negatívan befolyásolnák, ezért ezeket ki kell szűrni.\n",
    "\n",
    "Ezt a beépített `CountVectorizer` osztállyal meg lehet oldani, ami kiszűri az angol stop wordoket, és a maradék szavakat mátrixba rendezi.\n",
    "A mátrix annyi soros, ahány adatunk van, és annyi oszlopos, ahány szavunk van a szövegben.\n",
    "A mátrix egy eleme 1, ha az adott sorban lévő szövegben szerepel az oszlopban lévő szó, egyébként 0.\n",
    "\n",
    "Ez a mátrix reprezentálja a modell tulajdonságait (featureit)."
   ],
   "metadata": {
    "collapsed": false,
    "pycharm": {
     "name": "#%% md\n"
    }
   }
  },
  {
   "cell_type": "code",
   "execution_count": 110,
   "outputs": [
    {
     "data": {
      "text/plain": "(5572, 8404)"
     },
     "execution_count": 110,
     "metadata": {},
     "output_type": "execute_result"
    }
   ],
   "source": [
    "word_counter = feature_extraction.text.CountVectorizer(stop_words = 'english')\n",
    "word_matrix = word_counter.fit_transform(data[\"text\"])\n",
    "np.shape(word_matrix)"
   ],
   "metadata": {
    "collapsed": false,
    "pycharm": {
     "name": "#%%\n"
    }
   }
  },
  {
   "cell_type": "markdown",
   "source": [
    "Klasszifikációs modell megalkotása\n",
    "----------------------------------"
   ],
   "metadata": {
    "collapsed": false
   }
  },
  {
   "cell_type": "markdown",
   "source": [
    "Először átkódoljuk a labels oszlop értékeit, azaz a hamet és a spamet számokra (0 és 1), hogy az algoritmus számára használható legyen."
   ],
   "metadata": {
    "collapsed": false,
    "pycharm": {
     "name": "#%% md\n"
    }
   }
  },
  {
   "cell_type": "code",
   "execution_count": 111,
   "outputs": [
    {
     "data": {
      "text/plain": "array([0, 0, 1, ..., 0, 0, 0])"
     },
     "execution_count": 111,
     "metadata": {},
     "output_type": "execute_result"
    }
   ],
   "source": [
    "labels_encoded = preprocessing.LabelEncoder().fit_transform(data[\"labels\"])\n",
    "data[\"labels\"] = labels_encoded\n",
    "labels_encoded"
   ],
   "metadata": {
    "collapsed": false,
    "pycharm": {
     "name": "#%%\n"
    }
   }
  },
  {
   "cell_type": "markdown",
   "source": [
    "A modell tanításához szétválasztom az adatokat teszt és tanító adathalmazra.\n",
    "Ebben az esetben a teszt adathalmaz mérete 30% lesz.\n",
    "A 42-es számmal megadjuk, hogy mindig ugyanazon adatok mentén szelektálja szét az adathalmazt."
   ],
   "metadata": {
    "collapsed": false,
    "pycharm": {
     "name": "#%% md\n"
    }
   }
  },
  {
   "cell_type": "code",
   "execution_count": 112,
   "outputs": [
    {
     "name": "stdout",
     "output_type": "stream",
     "text": [
      "Training data size:  (3900, 8404)\n",
      "Teszt adatok mérete: (1672, 8404)\n"
     ]
    }
   ],
   "source": [
    "X_train, X_test, y_train, y_test = model_selection.train_test_split(word_matrix, data['labels'], test_size=0.3, random_state=42)\n",
    "print(\"Training data size: \", np.shape(X_train))\n",
    "print(\"Teszt adatok mérete:\", np.shape(X_test))"
   ],
   "metadata": {
    "collapsed": false,
    "pycharm": {
     "name": "#%%\n"
    }
   }
  },
  {
   "cell_type": "markdown",
   "source": [
    "Ennek a modellnek egy alpha paramétert kell megadni a nulla frekvencia kiküszöbölésére. Ha véletlenszerűen választanám ki, akkor nem lenne optimális a modell teljesítménye.\n",
    "Ezért megvizsgálom, hogy melyik a legjobb alpha a modell számára.\n",
    "\n",
    "Ehhez definiálunk egy listát, amiben az alphák 1/100000 és 20 között 0.11-es mértékkel nőnek (181 db) és minden egyes alphára betanítunk egy modellt és kiértékeljük azt."
   ],
   "metadata": {
    "collapsed": false,
    "pycharm": {
     "name": "#%% md\n"
    }
   }
  },
  {
   "cell_type": "code",
   "execution_count": 113,
   "outputs": [],
   "source": [
    "alpha_list = np.arange(1/100000, 20, 0.11)\n",
    "mean_accuracy_score_list = np.zeros(len(alpha_list))\n",
    "recall_score_list = np.zeros(len(alpha_list))\n",
    "precision_score_list= np.zeros(len(alpha_list))\n",
    "index = 0\n",
    "for alpha in alpha_list:\n",
    "    bayes = naive_bayes.MultinomialNB(alpha=alpha)\n",
    "    bayes.fit(X_train, y_train)\n",
    "    mean_accuracy_score_list[index]= bayes.score(X_test, y_test)\n",
    "    recall_score_list[index] = metrics.recall_score(y_test, bayes.predict(X_test))\n",
    "    precision_score_list[index] = metrics.precision_score(y_test, bayes.predict(X_test))\n",
    "    index = index + 1"
   ],
   "metadata": {
    "collapsed": false,
    "pycharm": {
     "name": "#%%\n"
    }
   }
  },
  {
   "cell_type": "markdown",
   "source": [
    "Kiveszem az eredmények közül a legnagyobb Test Precisionhöz tartozó sort."
   ],
   "metadata": {
    "collapsed": false,
    "pycharm": {
     "name": "#%% md\n",
     "is_executing": true
    }
   },
   "outputs": [
    {
     "ename": "SyntaxError",
     "evalue": "invalid syntax (<ipython-input-131-9a222bc77e13>, line 1)",
     "output_type": "error",
     "traceback": [
      "\u001B[1;36m  File \u001B[1;32m\"<ipython-input-131-9a222bc77e13>\"\u001B[1;36m, line \u001B[1;32m1\u001B[0m\n\u001B[1;33m    Létrehozunk egy mátrixot a listákkal. A mátrixból kivesszük a legjobb eredményt adó Test Precisionhöz tartozó sort az best_index alapján.\u001B[0m\n\u001B[1;37m                ^\u001B[0m\n\u001B[1;31mSyntaxError\u001B[0m\u001B[1;31m:\u001B[0m invalid syntax\n"
     ]
    }
   ]
  },
  {
   "cell_type": "code",
   "execution_count": 114,
   "outputs": [
    {
     "data": {
      "text/plain": "alpha             16.390010\nTest Accuracy      0.968301\nTest Recall        0.757991\nTest Precision     1.000000\nName: 149, dtype: float64"
     },
     "execution_count": 114,
     "metadata": {},
     "output_type": "execute_result"
    }
   ],
   "source": [
    "matrix = np.matrix(np.c_[alpha_list, mean_accuracy_score_list, recall_score_list, precision_score_list])\n",
    "models = pd.DataFrame(data = matrix, columns = ['alpha', 'Test Accuracy', 'Test Recall', 'Test Precision'])\n",
    "models.head(n=20)\n",
    "best_index = models['Test Precision'].idxmax()\n",
    "models.iloc[best_index, :]"
   ],
   "metadata": {
    "collapsed": false,
    "pycharm": {
     "name": "#%%\n"
    }
   }
  },
  {
   "cell_type": "markdown",
   "source": [
    "Azt látom, hogy van olyan modell aminek a Test Precisionja 1.0.\n",
    "Ezért megvizsgálom, hogy van -e több olyan modell, ahol a Test Precision tartozó érték 1.0."
   ],
   "metadata": {
    "collapsed": false,
    "pycharm": {
     "name": "#%% md\n"
    }
   }
  },
  {
   "cell_type": "code",
   "execution_count": 115,
   "outputs": [
    {
     "data": {
      "text/plain": "        alpha  Test Accuracy  Test Recall  Test Precision\n149  16.39001       0.968301     0.757991             1.0\n150  16.50001       0.968301     0.757991             1.0\n151  16.61001       0.968301     0.757991             1.0\n152  16.72001       0.968301     0.757991             1.0\n153  16.83001       0.967105     0.748858             1.0",
      "text/html": "<div>\n<style scoped>\n    .dataframe tbody tr th:only-of-type {\n        vertical-align: middle;\n    }\n\n    .dataframe tbody tr th {\n        vertical-align: top;\n    }\n\n    .dataframe thead th {\n        text-align: right;\n    }\n</style>\n<table border=\"1\" class=\"dataframe\">\n  <thead>\n    <tr style=\"text-align: right;\">\n      <th></th>\n      <th>alpha</th>\n      <th>Test Accuracy</th>\n      <th>Test Recall</th>\n      <th>Test Precision</th>\n    </tr>\n  </thead>\n  <tbody>\n    <tr>\n      <th>149</th>\n      <td>16.39001</td>\n      <td>0.968301</td>\n      <td>0.757991</td>\n      <td>1.0</td>\n    </tr>\n    <tr>\n      <th>150</th>\n      <td>16.50001</td>\n      <td>0.968301</td>\n      <td>0.757991</td>\n      <td>1.0</td>\n    </tr>\n    <tr>\n      <th>151</th>\n      <td>16.61001</td>\n      <td>0.968301</td>\n      <td>0.757991</td>\n      <td>1.0</td>\n    </tr>\n    <tr>\n      <th>152</th>\n      <td>16.72001</td>\n      <td>0.968301</td>\n      <td>0.757991</td>\n      <td>1.0</td>\n    </tr>\n    <tr>\n      <th>153</th>\n      <td>16.83001</td>\n      <td>0.967105</td>\n      <td>0.748858</td>\n      <td>1.0</td>\n    </tr>\n  </tbody>\n</table>\n</div>"
     },
     "execution_count": 115,
     "metadata": {},
     "output_type": "execute_result"
    }
   ],
   "source": [
    "models[models['Test Precision']==1].head(5)"
   ],
   "metadata": {
    "collapsed": false,
    "pycharm": {
     "name": "#%%\n"
    }
   }
  },
  {
   "cell_type": "markdown",
   "source": [
    "Mivel több ilyen modell is van, ezért megkeressük azt a modell, ahol a Test Precision == 1.0 és a Test Accuracy a legmagasabb."
   ],
   "metadata": {
    "collapsed": false,
    "pycharm": {
     "name": "#%% md\n",
     "is_executing": true
    }
   }
  },
  {
   "cell_type": "code",
   "execution_count": 116,
   "outputs": [
    {
     "data": {
      "text/plain": "alpha             16.390010\nTest Accuracy      0.968301\nTest Recall        0.757991\nTest Precision     1.000000\nName: 149, dtype: float64"
     },
     "execution_count": 116,
     "metadata": {},
     "output_type": "execute_result"
    }
   ],
   "source": [
    "best_index = models[models['Test Precision']==1]['Test Accuracy'].idxmax()\n",
    "models.iloc[best_index, :]"
   ],
   "metadata": {
    "collapsed": false,
    "pycharm": {
     "name": "#%%\n"
    }
   }
  },
  {
   "cell_type": "markdown",
   "source": [
    "Megvan a legjobb alphánk: 16.390010.\n",
    "Újra tanítjuk a modellt ez alapján."
   ],
   "metadata": {
    "collapsed": false,
    "pycharm": {
     "name": "#%% md\n",
     "is_executing": true
    }
   }
  },
  {
   "cell_type": "code",
   "execution_count": 117,
   "outputs": [],
   "source": [
    "bayes = naive_bayes.MultinomialNB(alpha=alpha_list[best_index])\n",
    "bayes.fit(X_train, y_train)\n",
    "predictions = bayes.predict(X_test)"
   ],
   "metadata": {
    "collapsed": false,
    "pycharm": {
     "name": "#%%\n"
    }
   }
  },
  {
   "cell_type": "markdown",
   "source": [
    "Létrehozzunk a konfúziós mátrixot, amiből megállapítható, hogy a cél amit az elején kitűztünk, sikeres volt. Egyetlen ham sem került a spamek közé, azonban 53 spam került a hamek közé."
   ],
   "metadata": {
    "collapsed": false,
    "pycharm": {
     "name": "#%% md\n",
     "is_executing": true
    }
   }
  },
  {
   "cell_type": "code",
   "execution_count": 118,
   "outputs": [
    {
     "data": {
      "text/plain": "                 Predicted 0 (ham)  Predicted 1 (spam)\nActual 0 (ham)                1453                   0\nActual 1 (spam)                 53                 166",
      "text/html": "<div>\n<style scoped>\n    .dataframe tbody tr th:only-of-type {\n        vertical-align: middle;\n    }\n\n    .dataframe tbody tr th {\n        vertical-align: top;\n    }\n\n    .dataframe thead th {\n        text-align: right;\n    }\n</style>\n<table border=\"1\" class=\"dataframe\">\n  <thead>\n    <tr style=\"text-align: right;\">\n      <th></th>\n      <th>Predicted 0 (ham)</th>\n      <th>Predicted 1 (spam)</th>\n    </tr>\n  </thead>\n  <tbody>\n    <tr>\n      <th>Actual 0 (ham)</th>\n      <td>1453</td>\n      <td>0</td>\n    </tr>\n    <tr>\n      <th>Actual 1 (spam)</th>\n      <td>53</td>\n      <td>166</td>\n    </tr>\n  </tbody>\n</table>\n</div>"
     },
     "execution_count": 118,
     "metadata": {},
     "output_type": "execute_result"
    }
   ],
   "source": [
    "m_confusion_test = metrics.confusion_matrix(y_test, predictions)\n",
    "confusion_matrix = pd.DataFrame(data = m_confusion_test, columns = ['Predicted 0 (ham)', 'Predicted 1 (spam)'],\n",
    "            index = ['Actual 0 (ham)', 'Actual 1 (spam)'])\n",
    "confusion_matrix"
   ],
   "metadata": {
    "collapsed": false,
    "pycharm": {
     "name": "#%%\n"
    }
   }
  }
 ],
 "metadata": {
  "kernelspec": {
   "display_name": "Python 3",
   "language": "python",
   "name": "python3"
  },
  "language_info": {
   "codemirror_mode": {
    "name": "ipython",
    "version": 3
   },
   "file_extension": ".py",
   "mimetype": "text/x-python",
   "name": "python",
   "nbconvert_exporter": "python",
   "pygments_lexer": "ipython3",
   "version": "3.9.2"
  }
 },
 "nbformat": 4,
 "nbformat_minor": 1
}
